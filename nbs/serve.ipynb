{
 "cells": [
  {
   "cell_type": "markdown",
   "metadata": {},
   "source": [
    "# serve\n",
    "\n",
    "> Fill in a module description here"
   ]
  },
  {
   "cell_type": "code",
   "execution_count": null,
   "metadata": {},
   "outputs": [],
   "source": [
    "#| default_exp serve"
   ]
  },
  {
   "cell_type": "code",
   "execution_count": null,
   "metadata": {},
   "outputs": [],
   "source": [
    "#| hide\n",
    "from nbdev.showdoc import *"
   ]
  },
  {
   "cell_type": "code",
   "execution_count": null,
   "metadata": {},
   "outputs": [
    {
     "name": "stderr",
     "output_type": "stream",
     "text": [
      "WARNING:root:WARNING: libtorch_cuda_cpp.so: cannot open shared object file: No such file or directory\n",
      "Need to compile C++ extensions to get sparse attention suport. Please run python setup.py build develop\n",
      "WARNING:root:A matching Triton is not available, some optimizations will not be enabled.\n",
      "Error caught was: module 'triton.language' has no attribute 'constexpr'\n"
     ]
    },
    {
     "name": "stdout",
     "output_type": "stream",
     "text": [
      "libtorch_cuda_cpp.so: cannot open shared object file: No such file or directory\n"
     ]
    },
    {
     "data": {
      "application/vnd.jupyter.widget-view+json": {
       "model_id": "352b0fcd67014c4c818f224280d8a25a",
       "version_major": 2,
       "version_minor": 0
      },
      "text/plain": [
       "Fetching 11 files:   0%|          | 0/11 [00:00<?, ?it/s]"
      ]
     },
     "metadata": {},
     "output_type": "display_data"
    }
   ],
   "source": [
    "#| export\n",
    "from datascience_toolkits.fastapi import create_app, serve\n",
    "from airt.core import handle_airt_request"
   ]
  },
  {
   "cell_type": "code",
   "execution_count": null,
   "metadata": {},
   "outputs": [],
   "source": [
    "#| export\n",
    "route_info = [{\n",
    "    \"path\": \"/\",\n",
    "    \"method\": \"post\",\n",
    "    \"endpoint\": handle_airt_request\n",
    "}]\n",
    "\n",
    "app = create_app(route_info)\n",
    "serve(app, port=8000)"
   ]
  },
  {
   "cell_type": "code",
   "execution_count": null,
   "metadata": {},
   "outputs": [],
   "source": [
    "#| hide\n",
    "import nbdev; nbdev.nbdev_export()"
   ]
  },
  {
   "cell_type": "code",
   "execution_count": null,
   "metadata": {},
   "outputs": [],
   "source": []
  }
 ],
 "metadata": {
  "kernelspec": {
   "display_name": "Environment (conda_anaconda3)",
   "language": "python",
   "name": "conda_anaconda3"
  }
 },
 "nbformat": 4,
 "nbformat_minor": 4
}
